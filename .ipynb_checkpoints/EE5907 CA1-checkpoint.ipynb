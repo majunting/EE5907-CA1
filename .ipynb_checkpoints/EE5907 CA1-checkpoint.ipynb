{
 "cells": [
  {
   "cell_type": "code",
   "execution_count": 1,
   "metadata": {
    "scrolled": true
   },
   "outputs": [],
   "source": [
    "import numpy as np\n",
    "import pandas as pd\n",
    "from ipywidgets import FloatProgress\n",
    "from IPython.display import display\n",
    "import timeit\n",
    "from datetime import timedelta\n",
    "from pathlib import Path\n",
    "import datetime as dt \n",
    "import matplotlib.pyplot as plt\n",
    "from collections import namedtuple\n",
    "from scipy.io import loadmat\n",
    "import scipy.spatial.distance as dist\n",
    "\n",
    "mat = loadmat('spamData.mat')  # load mat-file\n",
    "# mat = loadmat('../input/spamdata/spamData.mat')\n",
    "# sorted(mat.keys())\n",
    "x_test = mat['Xtest']  # variable in mat file\n",
    "x_train = mat['Xtrain']  # variable in mat file\n",
    "y_test = mat['ytest']  # variable in mat file\n",
    "y_train = mat['ytrain']  # variable in mat file"
   ]
  },
  {
   "cell_type": "code",
   "execution_count": 2,
   "metadata": {},
   "outputs": [],
   "source": [
    "# data preprocessing: binarization and log transformation\n",
    "from sklearn import preprocessing\n",
    "\n",
    "def logTrans(data):\n",
    "    return np.log(data + 0.1)\n",
    "\n",
    "xtrain = preprocessing.binarize(x_train)\n",
    "xtest = preprocessing.binarize(x_test)\n",
    "ytrain = y_train.flatten()\n",
    "ytest = y_test.flatten()\n",
    "xtest_log = logTrans(x_test)\n",
    "xtrain_log = logTrans(x_train)"
   ]
  },
  {
   "cell_type": "code",
   "execution_count": 3,
   "metadata": {},
   "outputs": [
    {
     "name": "stdout",
     "output_type": "stream",
     "text": [
      "1240 3065 0.40456769983686786\n"
     ]
    }
   ],
   "source": [
    "# let N1 be # of spam emails, N be total # of emails\n",
    "N1train = 0\n",
    "Ntrain = 0\n",
    "for row in y_train:\n",
    "#     print (row)\n",
    "    if row == 1:\n",
    "        N1train += 1\n",
    "    Ntrain += 1\n",
    "N0train = Ntrain - N1train\n",
    "print (N1train, Ntrain, N1train/Ntrain)\n",
    "MLE = N1train / Ntrain\n",
    "MLE_neg = 1 - MLE\n",
    "MLE_log = np.log(MLE)\n",
    "MLE_neg_log = np.log(MLE_neg)\n",
    "\n",
    "# # feature likelihood from training data\n",
    "# feature_likelihood = np.mean(xtrain[ytrain == 1], axis = 0)\n",
    "# print (feature_likelihood)"
   ]
  },
  {
   "cell_type": "code",
   "execution_count": 4,
   "metadata": {},
   "outputs": [],
   "source": [
    "def sum_x_train(spammed):\n",
    "    return np.sum(xtrain[ytrain == spammed], axis = 0).astype('uint16')\n",
    "def sum_y_train(spammed):\n",
    "    return len(ytrain[ytrain == spammed])\n",
    "def posterior_predictive_distribution (spammed, alpha):\n",
    "    return ((sum_x_train(spammed)+alpha)/(sum_y_train(spammed)+2*alpha))\n",
    "def classify(email, alpha):\n",
    "    feature_count = len(email)\n",
    "    \n",
    "    param_spam = 1\n",
    "    param_non_spam = 1\n",
    "    \n",
    "    for i in np.arange(feature_count):\n",
    "        temp_post_dist_0 = posterior_predictive_distribution(0, alpha)[i]\n",
    "        temp_post_dist_1 = posterior_predictive_distribution(1, alpha)[i]\n",
    "#         param_spam += (email[i] == 1) * np.log(temp_post_dist_1) + \\\n",
    "#         (email[i] == 0) * np.log(1-temp_post_dist_1)\n",
    "#         param_non_spam += (email[i] == 1) * np.log(temp_post_dist_0) + \\\n",
    "#         (email[i] == 0) * np.log(1-temp_post_dist_0)\n",
    "        \n",
    "#     prob_spam = MLE_log + param_spam\n",
    "#     prob_non_spam = MLE_neg_log + param_non_spam\n",
    "        if (email[i] == 1):\n",
    "            param_spam = param_spam * temp_post_dist_1\n",
    "            param_non_spam = param_non_spam * temp_post_dist_0\n",
    "        if (email[i] == 0):\n",
    "            param_spam = param_spam * (1 - temp_post_dist_1)\n",
    "            param_non_spam = param_non_spam * (1 - temp_post_dist_0)\n",
    "#         param_spam = param_spam * (temp_post_dist_1 ** (email[i] == 1)) * ((1-temp_post_dist_1) ** (email[i] == 0))\n",
    "#         param_non_spam = param_non_spam * (temp_post_dist_0 ** (email[i] == 1)) * ((1-temp_post_dist_0) ** (email[i] == 0))\n",
    "        \n",
    "    prob_spam = MLE * param_spam\n",
    "    prob_non_spam = MLE_neg * param_non_spam\n",
    "\n",
    "    return (prob_spam > prob_non_spam).astype('uint8')\n",
    "def calc_error_rate_test(alpha):\n",
    "    error_count = 0\n",
    "    for count, email in enumerate(xtest):\n",
    "        if (classify(email, alpha) != ytest[count]):\n",
    "            error_count += 1\n",
    "    return error_count/len(xtest)\n",
    "def calc_error_rate_train(alpha):\n",
    "    error_count = 0\n",
    "    for count, email in enumerate(xtrain):\n",
    "        if (classify(email, alpha) != ytrain[count]):\n",
    "            error_count += 1\n",
    "    return error_count/len(xtrain) * 100"
   ]
  },
  {
   "cell_type": "code",
   "execution_count": 10,
   "metadata": {},
   "outputs": [
    {
     "name": "stdout",
     "output_type": "stream",
     "text": [
      "alpha =  0.0 computed\n",
      "[0.12044270833333333]\n"
     ]
    },
    {
     "ename": "KeyboardInterrupt",
     "evalue": "",
     "output_type": "error",
     "traceback": [
      "\u001b[1;31m---------------------------------------------------------------------------\u001b[0m",
      "\u001b[1;31mKeyboardInterrupt\u001b[0m                         Traceback (most recent call last)",
      "\u001b[1;32m<ipython-input-10-0efa3bd20b33>\u001b[0m in \u001b[0;36m<module>\u001b[1;34m\u001b[0m\n\u001b[0;32m      5\u001b[0m \u001b[1;33m\u001b[0m\u001b[0m\n\u001b[0;32m      6\u001b[0m \u001b[1;32mfor\u001b[0m \u001b[0malpha\u001b[0m \u001b[1;32min\u001b[0m \u001b[0malphas\u001b[0m\u001b[1;33m:\u001b[0m\u001b[1;33m\u001b[0m\u001b[1;33m\u001b[0m\u001b[0m\n\u001b[1;32m----> 7\u001b[1;33m     \u001b[0merror_rate_test\u001b[0m\u001b[1;33m.\u001b[0m\u001b[0mappend\u001b[0m\u001b[1;33m(\u001b[0m\u001b[0mcalc_error_rate_test\u001b[0m\u001b[1;33m(\u001b[0m\u001b[0malpha\u001b[0m\u001b[1;33m)\u001b[0m\u001b[1;33m)\u001b[0m\u001b[1;33m\u001b[0m\u001b[1;33m\u001b[0m\u001b[0m\n\u001b[0m\u001b[0;32m      8\u001b[0m     \u001b[0mprint\u001b[0m \u001b[1;33m(\u001b[0m\u001b[1;34m\"alpha = \"\u001b[0m\u001b[1;33m,\u001b[0m \u001b[0malpha\u001b[0m\u001b[1;33m,\u001b[0m \u001b[1;34m\"computed\"\u001b[0m\u001b[1;33m)\u001b[0m\u001b[1;33m\u001b[0m\u001b[1;33m\u001b[0m\u001b[0m\n\u001b[0;32m      9\u001b[0m     \u001b[0mprint\u001b[0m \u001b[1;33m(\u001b[0m\u001b[0merror_rate_test\u001b[0m\u001b[1;33m)\u001b[0m\u001b[1;33m\u001b[0m\u001b[1;33m\u001b[0m\u001b[0m\n",
      "\u001b[1;32m<ipython-input-9-36eb7471ae33>\u001b[0m in \u001b[0;36mcalc_error_rate_test\u001b[1;34m(alpha)\u001b[0m\n\u001b[0;32m     37\u001b[0m     \u001b[0merror_count\u001b[0m \u001b[1;33m=\u001b[0m \u001b[1;36m0\u001b[0m\u001b[1;33m\u001b[0m\u001b[1;33m\u001b[0m\u001b[0m\n\u001b[0;32m     38\u001b[0m     \u001b[1;32mfor\u001b[0m \u001b[0mcount\u001b[0m\u001b[1;33m,\u001b[0m \u001b[0memail\u001b[0m \u001b[1;32min\u001b[0m \u001b[0menumerate\u001b[0m\u001b[1;33m(\u001b[0m\u001b[0mxtest\u001b[0m\u001b[1;33m)\u001b[0m\u001b[1;33m:\u001b[0m\u001b[1;33m\u001b[0m\u001b[1;33m\u001b[0m\u001b[0m\n\u001b[1;32m---> 39\u001b[1;33m         \u001b[1;32mif\u001b[0m \u001b[1;33m(\u001b[0m\u001b[0mclassify\u001b[0m\u001b[1;33m(\u001b[0m\u001b[0memail\u001b[0m\u001b[1;33m,\u001b[0m \u001b[0malpha\u001b[0m\u001b[1;33m)\u001b[0m \u001b[1;33m!=\u001b[0m \u001b[0mytest\u001b[0m\u001b[1;33m[\u001b[0m\u001b[0mcount\u001b[0m\u001b[1;33m]\u001b[0m\u001b[1;33m)\u001b[0m\u001b[1;33m:\u001b[0m\u001b[1;33m\u001b[0m\u001b[1;33m\u001b[0m\u001b[0m\n\u001b[0m\u001b[0;32m     40\u001b[0m             \u001b[0merror_count\u001b[0m \u001b[1;33m+=\u001b[0m \u001b[1;36m1\u001b[0m\u001b[1;33m\u001b[0m\u001b[1;33m\u001b[0m\u001b[0m\n\u001b[0;32m     41\u001b[0m     \u001b[1;32mreturn\u001b[0m \u001b[0merror_count\u001b[0m\u001b[1;33m/\u001b[0m\u001b[0mlen\u001b[0m\u001b[1;33m(\u001b[0m\u001b[0mxtest\u001b[0m\u001b[1;33m)\u001b[0m\u001b[1;33m\u001b[0m\u001b[1;33m\u001b[0m\u001b[0m\n",
      "\u001b[1;32m<ipython-input-9-36eb7471ae33>\u001b[0m in \u001b[0;36mclassify\u001b[1;34m(email, alpha)\u001b[0m\n\u001b[0;32m     12\u001b[0m \u001b[1;33m\u001b[0m\u001b[0m\n\u001b[0;32m     13\u001b[0m     \u001b[1;32mfor\u001b[0m \u001b[0mi\u001b[0m \u001b[1;32min\u001b[0m \u001b[0mnp\u001b[0m\u001b[1;33m.\u001b[0m\u001b[0marange\u001b[0m\u001b[1;33m(\u001b[0m\u001b[0mfeature_count\u001b[0m\u001b[1;33m)\u001b[0m\u001b[1;33m:\u001b[0m\u001b[1;33m\u001b[0m\u001b[1;33m\u001b[0m\u001b[0m\n\u001b[1;32m---> 14\u001b[1;33m         \u001b[0mtemp_post_dist_0\u001b[0m \u001b[1;33m=\u001b[0m \u001b[0mposterior_predictive_distribution\u001b[0m\u001b[1;33m(\u001b[0m\u001b[1;36m0\u001b[0m\u001b[1;33m,\u001b[0m \u001b[0malpha\u001b[0m\u001b[1;33m)\u001b[0m\u001b[1;33m[\u001b[0m\u001b[0mi\u001b[0m\u001b[1;33m]\u001b[0m\u001b[1;33m\u001b[0m\u001b[1;33m\u001b[0m\u001b[0m\n\u001b[0m\u001b[0;32m     15\u001b[0m         \u001b[0mtemp_post_dist_1\u001b[0m \u001b[1;33m=\u001b[0m \u001b[0mposterior_predictive_distribution\u001b[0m\u001b[1;33m(\u001b[0m\u001b[1;36m1\u001b[0m\u001b[1;33m,\u001b[0m \u001b[0malpha\u001b[0m\u001b[1;33m)\u001b[0m\u001b[1;33m[\u001b[0m\u001b[0mi\u001b[0m\u001b[1;33m]\u001b[0m\u001b[1;33m\u001b[0m\u001b[1;33m\u001b[0m\u001b[0m\n\u001b[0;32m     16\u001b[0m \u001b[1;31m#         param_spam += (email[i] == 1) * np.log(temp_post_dist_1) + \\\u001b[0m\u001b[1;33m\u001b[0m\u001b[1;33m\u001b[0m\u001b[1;33m\u001b[0m\u001b[0m\n",
      "\u001b[1;32m<ipython-input-9-36eb7471ae33>\u001b[0m in \u001b[0;36mposterior_predictive_distribution\u001b[1;34m(spammed, alpha)\u001b[0m\n\u001b[0;32m      4\u001b[0m     \u001b[1;32mreturn\u001b[0m \u001b[0mlen\u001b[0m\u001b[1;33m(\u001b[0m\u001b[0mytrain\u001b[0m\u001b[1;33m[\u001b[0m\u001b[0mytrain\u001b[0m \u001b[1;33m==\u001b[0m \u001b[0mspammed\u001b[0m\u001b[1;33m]\u001b[0m\u001b[1;33m)\u001b[0m\u001b[1;33m\u001b[0m\u001b[1;33m\u001b[0m\u001b[0m\n\u001b[0;32m      5\u001b[0m \u001b[1;32mdef\u001b[0m \u001b[0mposterior_predictive_distribution\u001b[0m \u001b[1;33m(\u001b[0m\u001b[0mspammed\u001b[0m\u001b[1;33m,\u001b[0m \u001b[0malpha\u001b[0m\u001b[1;33m)\u001b[0m\u001b[1;33m:\u001b[0m\u001b[1;33m\u001b[0m\u001b[1;33m\u001b[0m\u001b[0m\n\u001b[1;32m----> 6\u001b[1;33m     \u001b[1;32mreturn\u001b[0m \u001b[1;33m(\u001b[0m\u001b[1;33m(\u001b[0m\u001b[0msum_x_train\u001b[0m\u001b[1;33m(\u001b[0m\u001b[0mspammed\u001b[0m\u001b[1;33m)\u001b[0m\u001b[1;33m+\u001b[0m\u001b[0malpha\u001b[0m\u001b[1;33m)\u001b[0m\u001b[1;33m/\u001b[0m\u001b[1;33m(\u001b[0m\u001b[0msum_y_train\u001b[0m\u001b[1;33m(\u001b[0m\u001b[0mspammed\u001b[0m\u001b[1;33m)\u001b[0m\u001b[1;33m+\u001b[0m\u001b[1;36m2\u001b[0m\u001b[1;33m*\u001b[0m\u001b[0malpha\u001b[0m\u001b[1;33m)\u001b[0m\u001b[1;33m)\u001b[0m\u001b[1;33m\u001b[0m\u001b[1;33m\u001b[0m\u001b[0m\n\u001b[0m\u001b[0;32m      7\u001b[0m \u001b[1;32mdef\u001b[0m \u001b[0mclassify\u001b[0m\u001b[1;33m(\u001b[0m\u001b[0memail\u001b[0m\u001b[1;33m,\u001b[0m \u001b[0malpha\u001b[0m\u001b[1;33m)\u001b[0m\u001b[1;33m:\u001b[0m\u001b[1;33m\u001b[0m\u001b[1;33m\u001b[0m\u001b[0m\n\u001b[0;32m      8\u001b[0m     \u001b[0mfeature_count\u001b[0m \u001b[1;33m=\u001b[0m \u001b[0mlen\u001b[0m\u001b[1;33m(\u001b[0m\u001b[0memail\u001b[0m\u001b[1;33m)\u001b[0m\u001b[1;33m\u001b[0m\u001b[1;33m\u001b[0m\u001b[0m\n",
      "\u001b[1;32m<ipython-input-9-36eb7471ae33>\u001b[0m in \u001b[0;36msum_x_train\u001b[1;34m(spammed)\u001b[0m\n\u001b[0;32m      1\u001b[0m \u001b[1;32mdef\u001b[0m \u001b[0msum_x_train\u001b[0m\u001b[1;33m(\u001b[0m\u001b[0mspammed\u001b[0m\u001b[1;33m)\u001b[0m\u001b[1;33m:\u001b[0m\u001b[1;33m\u001b[0m\u001b[1;33m\u001b[0m\u001b[0m\n\u001b[1;32m----> 2\u001b[1;33m     \u001b[1;32mreturn\u001b[0m \u001b[0mnp\u001b[0m\u001b[1;33m.\u001b[0m\u001b[0msum\u001b[0m\u001b[1;33m(\u001b[0m\u001b[0mxtrain\u001b[0m\u001b[1;33m[\u001b[0m\u001b[0mytrain\u001b[0m \u001b[1;33m==\u001b[0m \u001b[0mspammed\u001b[0m\u001b[1;33m]\u001b[0m\u001b[1;33m,\u001b[0m \u001b[0maxis\u001b[0m \u001b[1;33m=\u001b[0m \u001b[1;36m0\u001b[0m\u001b[1;33m)\u001b[0m\u001b[1;33m.\u001b[0m\u001b[0mastype\u001b[0m\u001b[1;33m(\u001b[0m\u001b[1;34m'uint16'\u001b[0m\u001b[1;33m)\u001b[0m\u001b[1;33m\u001b[0m\u001b[1;33m\u001b[0m\u001b[0m\n\u001b[0m\u001b[0;32m      3\u001b[0m \u001b[1;32mdef\u001b[0m \u001b[0msum_y_train\u001b[0m\u001b[1;33m(\u001b[0m\u001b[0mspammed\u001b[0m\u001b[1;33m)\u001b[0m\u001b[1;33m:\u001b[0m\u001b[1;33m\u001b[0m\u001b[1;33m\u001b[0m\u001b[0m\n\u001b[0;32m      4\u001b[0m     \u001b[1;32mreturn\u001b[0m \u001b[0mlen\u001b[0m\u001b[1;33m(\u001b[0m\u001b[0mytrain\u001b[0m\u001b[1;33m[\u001b[0m\u001b[0mytrain\u001b[0m \u001b[1;33m==\u001b[0m \u001b[0mspammed\u001b[0m\u001b[1;33m]\u001b[0m\u001b[1;33m)\u001b[0m\u001b[1;33m\u001b[0m\u001b[1;33m\u001b[0m\u001b[0m\n\u001b[0;32m      5\u001b[0m \u001b[1;32mdef\u001b[0m \u001b[0mposterior_predictive_distribution\u001b[0m \u001b[1;33m(\u001b[0m\u001b[0mspammed\u001b[0m\u001b[1;33m,\u001b[0m \u001b[0malpha\u001b[0m\u001b[1;33m)\u001b[0m\u001b[1;33m:\u001b[0m\u001b[1;33m\u001b[0m\u001b[1;33m\u001b[0m\u001b[0m\n",
      "\u001b[1;31mKeyboardInterrupt\u001b[0m: "
     ]
    }
   ],
   "source": [
    "# compute error rate for test data with different alpha values\n",
    "alphas = np.arange(0,100.5,0.5)\n",
    "error_rate_test = []\n",
    "error_rate_train = []\n",
    "\n",
    "for alpha in alphas:\n",
    "    error_rate_test.append(calc_error_rate_test(alpha))\n",
    "    print (\"alpha = \", alpha, \"computed\")\n",
    "    print (error_rate_test)\n",
    "print (error_rate_test)\n",
    "\n",
    "for alpha in alphas:\n",
    "    error_rate_train.append(calc_error_rate_train(alpha))\n",
    "    print (\"alpha = \", alpha, \"computed\")\n",
    "print (error_rate_train)"
   ]
  },
  {
   "cell_type": "code",
   "execution_count": 7,
   "metadata": {},
   "outputs": [],
   "source": [
    "# Q2 Gaussian Naive Bayes\n",
    "\n",
    "# compute mean and standard deviation for ML estimation\n",
    "xtrain_log_mean_spam = np.mean(xtrain_log[ytrain == 1], axis = 0)\n",
    "xtrain_log_std_spam = np.std(xtrain_log[ytrain == 1], axis = 0)\n",
    "xtrain_log_mean_nonspam = np.mean(xtrain_log[ytrain == 0], axis = 0)\n",
    "xtrain_log_std_nonspam = np.std(xtrain_log[ytrain == 0], axis = 0)"
   ]
  },
  {
   "cell_type": "code",
   "execution_count": 8,
   "metadata": {},
   "outputs": [],
   "source": [
    "def classify_gaussian(email):\n",
    "    feature_count = len(email)\n",
    "    \n",
    "    param_spam = 0\n",
    "    param_non_spam = 0\n",
    "    \n",
    "    for i in np.arange(feature_count):\n",
    "        param_spam += -np.log(xtrain_log_std_spam[i]) - ((email[i] - xtrain_log_mean_spam[i])/(xtrain_log_std_spam[i])) ** 2 / 2\n",
    "        param_non_spam += -np.log(xtrain_log_std_nonspam[i]) - ((email[i] - xtrain_log_mean_nonspam[i])/(xtrain_log_std_nonspam[i])) ** 2 / 2\n",
    "        \n",
    "    prob_spam = MLE + param_spam\n",
    "    prob_non_spam = MLE_neg + param_non_spam\n",
    "    \n",
    "    return (prob_spam > prob_non_spam).astype('uint8')\n",
    "\n",
    "def error_rate_gaussian(data, result):\n",
    "    error_count = 0\n",
    "    \n",
    "    for count, email in enumerate(data):\n",
    "        if (classify_gaussian(email) != result[count]):\n",
    "            error_count += 1\n",
    "    return (error_count / len(data)) * 100"
   ]
  },
  {
   "cell_type": "code",
   "execution_count": 9,
   "metadata": {},
   "outputs": [
    {
     "name": "stdout",
     "output_type": "stream",
     "text": [
      "0.16867862969004893\n",
      "0.16341145833333334\n"
     ]
    }
   ],
   "source": [
    "error_rate_gaussian_train = error_rate_gaussian(xtrain_log, ytrain)\n",
    "error_rate_gaussian_test = error_rate_gaussian(xtest_log, ytest)\n",
    "print (error_rate_gaussian_train)\n",
    "print (error_rate_gaussian_test)"
   ]
  },
  {
   "cell_type": "code",
   "execution_count": 10,
   "metadata": {},
   "outputs": [],
   "source": [
    "# Q3 Logistic Regression\n",
    "lambdas = np.hstack((np.arange(1,10,1), np.arange(10,105,5)))"
   ]
  },
  {
   "cell_type": "code",
   "execution_count": 41,
   "metadata": {},
   "outputs": [],
   "source": [
    "def sigmoid(x):\n",
    "    return 1/(1+np.exp(-x))\n",
    "\n",
    "def calc_parameters(x_data, y_data, omega, lam):\n",
    "    feature_count = x_data.shape[1]\n",
    "    x_data = np.insert(x_data, 0, 1, axis = 1)\n",
    "    I = np.diag(np.insert(np.ones(feature_count), 0, 0))\n",
    "    NLL = 0\n",
    "    \n",
    "    mus = sigmoid(np.dot(x_data, omega)) # an array of mu for each individual email in x_train\n",
    "    s_param = []\n",
    "    \n",
    "    for y, mu in zip(y_data, mus):\n",
    "        NLL -= y * np.log(mu) + (1 - y) * np.log(1 - mu)\n",
    "        s_param.append(mu * (1 - mu))\n",
    "    g = np.dot(x_data.T, (mus - y_data))\n",
    "    S = np.diag(s_param)\n",
    "    H = np.dot(x_data.T, np.dot(S, x_data))\n",
    "    \n",
    "    # regularization of parameters\n",
    "#     NLL_reg = NLL + 0.5 * lam * (np.dot(omega.T, omega))\n",
    "    NLL_reg = NLL + 0.5 * lam * np.inner(omega[1:], omega[1:])\n",
    "    g_reg = g + np.insert(lam * omega[1:], 0, 0)\n",
    "    H_reg = H + np.dot(lam, I)\n",
    "    \n",
    "    return NLL_reg, g_reg, H_reg\n",
    "\n",
    "def calc_omega(x_data, y_data, lam):\n",
    "    feature_count = x_data.shape[1]\n",
    "    Init = np.zeros(feature_count + 1)\n",
    "    omega = Init\n",
    "    convergence = False\n",
    "    iter_count = 0\n",
    "    \n",
    "    try:\n",
    "        while convergence == False:\n",
    "            NLL, g, H = calc_parameters(x_data, y_data, omega, lam)\n",
    "            iter_count += 1\n",
    "            omega_new = omega - np.dot(np.linalg.inv(H), g)\n",
    "            error = np.inner(omega_new - omega, omega_new - omega)/np.inner(omega, omega)\n",
    "            if error < 0.001:\n",
    "                convergence = True\n",
    "            else:\n",
    "                omega = omega_new\n",
    "        return omega_new\n",
    "    except:\n",
    "        print (\"lambda value: \", lam, \"error: \", error * 100, \"omega: \", omega_new)\n",
    "        \n",
    "\n",
    "def calc_error_rate_logReg(x_data, y_data, x_train, y_train, lam):\n",
    "    omega = calc_omega(x_train, y_train, lam)\n",
    "    error_count = 0\n",
    "    classified = sigmoid(omega[0] + np.dot(x_data, omega[1:])) > 0.5\n",
    "    for idx, item in enumerate(classified):\n",
    "        if (item != y_data[idx]):\n",
    "            error_count += 1\n",
    "    return (error_count / len(y_data)) * 100\n"
   ]
  },
  {
   "cell_type": "code",
   "execution_count": 43,
   "metadata": {},
   "outputs": [
    {
     "name": "stderr",
     "output_type": "stream",
     "text": [
      "D:\\Anaconda\\lib\\site-packages\\ipykernel_launcher.py:40: RuntimeWarning: divide by zero encountered in double_scalars\n"
     ]
    },
    {
     "name": "stdout",
     "output_type": "stream",
     "text": [
      "[0.053507340946166396, 0.053507340946166396, 0.053507340946166396, 0.053833605220228384, 0.05415986949429037, 0.05415986949429037, 0.05415986949429037, 0.053507340946166396, 0.053833605220228384, 0.053833605220228384, 0.054812398042414355, 0.05644371941272431, 0.055791190864600326, 0.05644371941272431, 0.05774877650897227, 0.05807504078303426, 0.058401305057096245, 0.05905383360522023, 0.05905383360522023, 0.05970636215334421, 0.05970636215334421, 0.06068515497553018, 0.06133768352365416, 0.06166394779771615, 0.06199021207177814, 0.0629690048939641, 0.06264274061990212, 0.06394779771615008]\n",
      "[1, 2, 3, 4, 5, 6, 7, 8, 9, 10, 15, 20, 25, 30, 35, 40, 45, 50, 55, 60, 65, 70, 75, 80, 85, 90, 95, 100]\n",
      "[]\n",
      "[0.060546875, 0.060546875, 0.059244791666666664, 0.057942708333333336, 0.057291666666666664, 0.057942708333333336, 0.05859375, 0.057291666666666664, 0.05859375, 0.059895833333333336, 0.060546875, 0.0625, 0.061197916666666664, 0.0625, 0.06380208333333333, 0.06380208333333333, 0.06380208333333333, 0.06315104166666667, 0.06380208333333333, 0.06380208333333333, 0.06380208333333333, 0.06510416666666667, 0.06575520833333333, 0.06575520833333333, 0.06640625, 0.06575520833333333, 0.06575520833333333, 0.06640625]\n",
      "[1, 2, 3, 4, 5, 6, 7, 8, 9, 10, 15, 20, 25, 30, 35, 40, 45, 50, 55, 60, 65, 70, 75, 80, 85, 90, 95, 100]\n",
      "[]\n"
     ]
    }
   ],
   "source": [
    "logReg_train_error_rate = []\n",
    "valid_lambda_train = []\n",
    "invalid_lambda_train = []\n",
    "\n",
    "for lam in lambdas:\n",
    "    try:\n",
    "        logReg_train_error_rate.append(calc_error_rate_logReg(xtrain_log, ytrain, xtrain_log, ytrain, lam))\n",
    "        valid_lambda_train.append(lam)\n",
    "    except:\n",
    "        invalid_lambda_train.append(lam)\n",
    "        pass\n",
    "\n",
    "logReg_test_error_rate = []\n",
    "valid_lambda_test = []\n",
    "invalid_lambda_test = []\n",
    "\n",
    "for lam in lambdas:\n",
    "    try:\n",
    "        logReg_test_error_rate.append(calc_error_rate_logReg(xtest_log, ytest, xtrain_log, ytrain, lam))\n",
    "        valid_lambda_test.append(lam)\n",
    "    except:\n",
    "        invalid_lambda_test.append(lam)\n",
    "        pass\n",
    "print (logReg_train_error_rate)\n",
    "print (valid_lambda_train)\n",
    "print (invalid_lambda_train)\n",
    "\n",
    "print (logReg_test_error_rate)\n",
    "print (valid_lambda_test)\n",
    "print (invalid_lambda_test)"
   ]
  },
  {
   "cell_type": "code",
   "execution_count": null,
   "metadata": {},
   "outputs": [],
   "source": []
  },
  {
   "cell_type": "code",
   "execution_count": 5,
   "metadata": {},
   "outputs": [],
   "source": [
    "# Q4 K-Nearest Neighbors\n",
    "Ks = np.hstack((np.arange(1,10,1), np.arange(10,105,5)))"
   ]
  },
  {
   "cell_type": "code",
   "execution_count": 9,
   "metadata": {},
   "outputs": [],
   "source": [
    "def calc_Euclidean_distance (data_1, data_2):\n",
    "#     Euc_dist = []\n",
    "#     for index_1 in np.arange(len(data_1)):\n",
    "#         euc_dist_temp = []\n",
    "#         for index_2 in np.arange(len(data_2)):\n",
    "#             euc_dist_temp.append(dist.euclidean(data_1[index_1], data_2[index_2]))\n",
    "#         Euc_dist.append(euc_dist_temp)\n",
    "#     return Euc_dist\n",
    "    Euc_dist = np.array([[dist.euclidean(data_1[idx1], data_2[idx2]) for idx2 in np.arange(len(data_2))] for idx1 in np.arange(len(data_1))])\n",
    "    return Euc_dist\n",
    "\n",
    "# def knn_classify(distance, K):\n",
    "#     classified = []\n",
    "#     for distance_1D in distance:\n",
    "#             classified = clac_Euclidean_distance()"
   ]
  },
  {
   "cell_type": "code",
   "execution_count": 10,
   "metadata": {},
   "outputs": [
    {
     "data": {
      "text/plain": [
       "[[0, 0, 0, 0, 0, 0, 0, 0, 0, 0],\n",
       " [10, 10, 10, 10, 10, 10, 10, 10, 10, 10],\n",
       " [20, 20, 20, 20, 20, 20, 20, 20, 20, 20],\n",
       " [30, 30, 30, 30, 30, 30, 30, 30, 30, 30],\n",
       " [40, 40, 40, 40, 40, 40, 40, 40, 40, 40],\n",
       " [50, 50, 50, 50, 50, 50, 50, 50, 50, 50],\n",
       " [60, 60, 60, 60, 60, 60, 60, 60, 60, 60],\n",
       " [70, 70, 70, 70, 70, 70, 70, 70, 70, 70],\n",
       " [80, 80, 80, 80, 80, 80, 80, 80, 80, 80],\n",
       " [90, 90, 90, 90, 90, 90, 90, 90, 90, 90]]"
      ]
     },
     "execution_count": 10,
     "metadata": {},
     "output_type": "execute_result"
    }
   ],
   "source": []
  },
  {
   "cell_type": "code",
   "execution_count": 12,
   "metadata": {},
   "outputs": [
    {
     "name": "stdout",
     "output_type": "stream",
     "text": [
      "[[ 0.          7.5737939   6.81623814 ...  8.99716092  8.4855286\n",
      "   7.7188345 ]\n",
      " [ 7.5737939   0.          7.57140277 ...  8.83353652  9.24550958\n",
      "  10.23473476]\n",
      " [ 6.81623814  7.57140277  0.         ...  8.13892882  8.26819846\n",
      "   6.81062845]\n",
      " ...\n",
      " [ 8.99716092  8.83353652  8.13892882 ...  0.          8.50056822\n",
      "   9.27673152]\n",
      " [ 8.4855286   9.24550958  8.26819846 ...  8.50056822  0.\n",
      "  10.21475828]\n",
      " [ 7.7188345  10.23473476  6.81062845 ...  9.27673152 10.21475828\n",
      "   0.        ]]\n"
     ]
    }
   ],
   "source": [
    "print (calc_Euclidean_distance(xtrain_log, xtrain_log))"
   ]
  },
  {
   "cell_type": "code",
   "execution_count": null,
   "metadata": {},
   "outputs": [],
   "source": []
  }
 ],
 "metadata": {
  "kernelspec": {
   "display_name": "Python 3",
   "language": "python",
   "name": "python3"
  },
  "language_info": {
   "codemirror_mode": {
    "name": "ipython",
    "version": 3
   },
   "file_extension": ".py",
   "mimetype": "text/x-python",
   "name": "python",
   "nbconvert_exporter": "python",
   "pygments_lexer": "ipython3",
   "version": "3.7.3"
  }
 },
 "nbformat": 4,
 "nbformat_minor": 2
}
