{
 "cells": [
  {
   "cell_type": "code",
   "execution_count": 1,
   "metadata": {
    "scrolled": true
   },
   "outputs": [],
   "source": [
    "# import necessary packages \n",
    "import numpy as np\n",
    "from IPython.display import display\n",
    "from pathlib import Path\n",
    "import datetime as dt \n",
    "import matplotlib.pyplot as plt\n",
    "from collections import namedtuple\n",
    "from sklearn import preprocessing\n",
    "from scipy.io import loadmat\n",
    "import scipy.spatial.distance as dist\n",
    "\n",
    "mat = loadmat('spamData.mat')  # load mat-file, make sure the mat-file is under the same directory as the python notebook file\n",
    "# mat = loadmat('../input/spamdata/spamData.mat')\n",
    "# sorted(mat.keys())\n",
    "x_test = mat['Xtest']  # features of emails in test set\n",
    "x_train = mat['Xtrain']  # features of emails in training set\n",
    "y_test = mat['ytest']  # categories of emails in test set\n",
    "y_train = mat['ytrain']  # categories of emails in training set"
   ]
  },
  {
   "cell_type": "code",
   "execution_count": 2,
   "metadata": {},
   "outputs": [],
   "source": [
    "# data preprocessing: binarization and log transformation\n",
    "\n",
    "def logTrans(data):\n",
    "# this function performs log transformation on the features\n",
    "    return np.log(data + 0.1)\n",
    "\n",
    "# binarize x_train and x_test\n",
    "xtrain = preprocessing.binarize(x_train)\n",
    "xtest = preprocessing.binarize(x_test)\n",
    "# log transform x_train and x_test\n",
    "xtest_log = logTrans(x_test)\n",
    "xtrain_log = logTrans(x_train)\n",
    "# convert y_train and y_test to 1-D arrays\n",
    "ytrain = y_train.flatten()\n",
    "ytest = y_test.flatten()"
   ]
  },
  {
   "cell_type": "code",
   "execution_count": 3,
   "metadata": {},
   "outputs": [
    {
     "name": "stdout",
     "output_type": "stream",
     "text": [
      "1240 3065 0.40456769983686786\n"
     ]
    }
   ],
   "source": [
    "# let N1 be number of spam emails, N0 be number of non-spammed emails, N be total # of emails\n",
    "\n",
    "N1train = 0\n",
    "Ntrain = len(ytrain)\n",
    "N1train = np.sum(ytrain[ytrain == 1])\n",
    "N0train = Ntrain - N1train\n",
    "print (N1train, Ntrain, N1train/Ntrain)\n",
    "\n",
    "# computation of maximum likelihood estimation MLE and log of MLE\n",
    "MLE = N1train / Ntrain\n",
    "MLE_neg = 1 - MLE\n",
    "MLE_log = np.log(MLE)\n",
    "MLE_neg_log = np.log(MLE_neg)\n",
    "\n",
    "# # feature likelihood from training data\n",
    "# feature_likelihood = np.mean(xtrain[ytrain == 1], axis = 0)\n",
    "# print (feature_likelihood)"
   ]
  },
  {
   "cell_type": "markdown",
   "metadata": {},
   "source": [
    "## Q1. Beta-binomial Naive Bayes "
   ]
  },
  {
   "cell_type": "code",
   "execution_count": 4,
   "metadata": {},
   "outputs": [],
   "source": [
    "# define functions used for beta-binomial naive bayes\n",
    "\n",
    "def sum_x_train(spammed):\n",
    "# this function computes the number of appearance of each binarized features in the training set\n",
    "# the input spammed is either 0 or 1\n",
    "    return np.sum(xtrain[ytrain == spammed], axis = 0).astype('uint16')\n",
    "def sum_y_train(spammed):\n",
    "# this function returns the total number of spammed/non-spammed emails in the training set\n",
    "    return len(ytrain[ytrain == spammed])\n",
    "def posterior_predictive_distribution (spammed, alpha):\n",
    "# this function computes the posterior predictive distribution for a given alpha\n",
    "    return ((sum_x_train(spammed)+alpha)/(sum_y_train(spammed)+2*alpha))\n",
    "def classify(email, alpha):\n",
    "# this function classifies an input email as either spammed or non-spammed with posterior predictive distribution for a given alpha\n",
    "    feature_count = len(email)\n",
    "    \n",
    "    param_spam = 1\n",
    "    param_non_spam = 1\n",
    "    \n",
    "    temp_post_dist_0 = posterior_predictive_distribution(0, alpha)\n",
    "    temp_post_dist_1 = posterior_predictive_distribution(1, alpha)\n",
    "    \n",
    "    for i in np.arange(feature_count):\n",
    "#         param_spam += (email[i] == 1) * np.log(temp_post_dist_1) + \\\n",
    "#         (email[i] == 0) * np.log(1-temp_post_dist_1)\n",
    "#         param_non_spam += (email[i] == 1) * np.log(temp_post_dist_0) + \\\n",
    "#         (email[i] == 0) * np.log(1-temp_post_dist_0)\n",
    "        \n",
    "#     prob_spam = MLE_log + param_spam\n",
    "#     prob_non_spam = MLE_neg_log + param_non_spam\n",
    "\n",
    "#         param_spam = param_spam * (temp_post_dist_1 ** (email[i] == 1)) * ((1-temp_post_dist_1) ** (email[i] == 0))\n",
    "#         param_non_spam = param_non_spam * (temp_post_dist_0 ** (email[i] == 1)) * ((1-temp_post_dist_0) ** (email[i] == 0))\n",
    "        if (email[i] == 1):\n",
    "            param_spam = param_spam * temp_post_dist_1[i]\n",
    "            param_non_spam = param_non_spam * temp_post_dist_0[i]\n",
    "        if (email[i] == 0):\n",
    "            param_spam = param_spam * (1 - temp_post_dist_1[i])\n",
    "            param_non_spam = param_non_spam * (1 - temp_post_dist_0[i])\n",
    "        \n",
    "    # computes the probabilities of email being spammed or non-spammed\n",
    "    prob_spam = MLE * param_spam\n",
    "    prob_non_spam = MLE_neg * param_non_spam\n",
    "\n",
    "    # returns 1 if the email is classified as spammed (probability of the email being classified as spammed is higher than non-spammed)\n",
    "    # returns 0 if the email is classified as non-spammed\n",
    "    return (prob_spam > prob_non_spam).astype('uint8')\n",
    "\n",
    "def calc_error_rate_test_beta(alpha):\n",
    "    # this function calculates the error rate of test set for beta-binomial model\n",
    "    error_count = 0\n",
    "    for count, email in enumerate(xtest):\n",
    "        if (classify(email, alpha) != ytest[count]):\n",
    "            error_count += 1\n",
    "    return error_count/len(xtest) * 100\n",
    "\n",
    "def calc_error_rate_train_beta(alpha):\n",
    "    # this function calculates the error rate of training set for beta-binomial model\n",
    "    error_count = 0\n",
    "    for count, email in enumerate(xtrain):\n",
    "        if (classify(email, alpha) != ytrain[count]):\n",
    "            error_count += 1\n",
    "    return error_count/len(xtrain) * 100"
   ]
  },
  {
   "cell_type": "code",
   "execution_count": 5,
   "metadata": {},
   "outputs": [],
   "source": [
    "# compute error rate for test data with different alpha values\n",
    "alphas = np.arange(0,100.5,0.5)\n",
    "beta_error_rate_test = []\n",
    "beta_error_rate_train = []\n",
    "\n",
    "# computes error rates for test set and training set\n",
    "for alpha in alphas:\n",
    "    beta_error_rate_test.append(calc_error_rate_test_beta(alpha))\n",
    "\n",
    "for alpha in alphas:\n",
    "    beta_error_rate_train.append(calc_error_rate_train_beta(alpha))"
   ]
  },
  {
   "cell_type": "markdown",
   "metadata": {},
   "source": [
    "### Plots of training and test error rates versus alpha"
   ]
  },
  {
   "cell_type": "code",
   "execution_count": 6,
   "metadata": {},
   "outputs": [
    {
     "data": {
      "image/png": "[encoded data removed]",
      "text/plain": [
       "<Figure size 432x288 with 1 Axes>"
      ]
     },
     "metadata": {
      "needs_background": "light"
     },
     "output_type": "display_data"
    }
   ],
   "source": [
    "plt.plot(alphas,beta_error_rate_train,'g',label='Training error rate', linewidth=2)\n",
    "plt.plot(alphas,beta_error_rate_test,'r',label='Test error rate', linewidth=2)\n",
    "plt.title('Plots of training and test error rates versus alpha')\n",
    "plt.ylabel('Error rate/%')\n",
    "plt.xlabel('Alpha')\n",
    "plt.legend()\n",
    "plt.show()"
   ]
  },
  {
   "cell_type": "markdown",
   "metadata": {},
   "source": [
    "### Observations of training and test error rates as alpha changes:"
   ]
  },
  {
   "cell_type": "markdown",
   "metadata": {},
   "source": [
    "Both training and test error rates increases as alpha increases from 0 to 100. Training error rates are generally lower than test error rates as the model is trained with the training set"
   ]
  },
  {
   "cell_type": "markdown",
   "metadata": {},
   "source": [
    "### Training and test error rates for alpha = 1, 10, 100"
   ]
  },
  {
   "cell_type": "code",
   "execution_count": 7,
   "metadata": {},
   "outputs": [
    {
     "name": "stdout",
     "output_type": "stream",
     "text": [
      "Training error rate for alpha = 1.0 : 11.419249592169658 %\n",
      "Test error rate for alpha = 1.0 : 12.369791666666668 %\n",
      "Training error rate for alpha = 10.0 : 11.745513866231647 %\n",
      "Test error rate for alpha = 10.0 : 12.6953125 %\n",
      "Training error rate for alpha = 100.0 : 13.637846655791192 %\n",
      "Test error rate for alpha = 100.0 : 14.6484375 %\n"
     ]
    }
   ],
   "source": [
    "# print (\"Training error rate for alpha = 1:\", calc_error_rate_train_beta(1), \"%\")\n",
    "# print (\"Training error rate for alpha = 10:\", calc_error_rate_train_beta(10), \"%\")\n",
    "# print (\"Training error rate for alpha = 100:\", calc_error_rate_train_beta(100), \"%\")\n",
    "# print (\"Test error rate for alpha = 1:\", calc_error_rate_test_beta(1), \"%\")\n",
    "# print (\"Test error rate for alpha = 10:\", calc_error_rate_test_beta(10), \"%\")\n",
    "# print (\"Test error rate for alpha = 100:\", calc_error_rate_test_beta(100), \"%\")\n",
    "\n",
    "for idx, alpha in enumerate(alphas):\n",
    "    if (alpha == 1 or alpha == 10 or alpha == 100):\n",
    "        print (\"Training error rate for alpha =\", alpha, \":\", beta_error_rate_train[idx], \"%\")\n",
    "        print (\"Test error rate for alpha =\", alpha, \":\", beta_error_rate_test[idx], \"%\")"
   ]
  },
  {
   "cell_type": "markdown",
   "metadata": {},
   "source": [
    "## Q2. Gaussian Naive Bayes"
   ]
  },
  {
   "cell_type": "code",
   "execution_count": 8,
   "metadata": {},
   "outputs": [],
   "source": [
    "# compute mean and standard deviation for ML estimation\n",
    "xtrain_log_mean_spam = np.mean(xtrain_log[ytrain == 1], axis = 0)\n",
    "xtrain_log_std_spam = np.std(xtrain_log[ytrain == 1], axis = 0)\n",
    "xtrain_log_mean_nonspam = np.mean(xtrain_log[ytrain == 0], axis = 0)\n",
    "xtrain_log_std_nonspam = np.std(xtrain_log[ytrain == 0], axis = 0)"
   ]
  },
  {
   "cell_type": "code",
   "execution_count": 9,
   "metadata": {},
   "outputs": [],
   "source": [
    "def classify_gaussian(email):\n",
    "# This function classifies the input email as either spammed or non-spammed with Gaussian Naive Bayes\n",
    "    feature_count = len(email)\n",
    "    \n",
    "    param_spam = 0\n",
    "    param_non_spam = 0\n",
    "    \n",
    "    for i in np.arange(feature_count):\n",
    "        param_spam += -np.log(xtrain_log_std_spam[i]) - ((email[i] - xtrain_log_mean_spam[i])/(xtrain_log_std_spam[i])) ** 2 / 2\n",
    "        param_non_spam += -np.log(xtrain_log_std_nonspam[i]) - ((email[i] - xtrain_log_mean_nonspam[i])/(xtrain_log_std_nonspam[i])) ** 2 / 2\n",
    "        \n",
    "    prob_spam = MLE + param_spam\n",
    "    prob_non_spam = MLE_neg + param_non_spam\n",
    "    \n",
    "    return (prob_spam > prob_non_spam).astype('uint8')\n",
    "\n",
    "def error_rate_gaussian(data, result):\n",
    "# This function computes the error rates for a given set of emails \n",
    "    error_count = 0\n",
    "    \n",
    "    for count, email in enumerate(data):\n",
    "        if (classify_gaussian(email) != result[count]):\n",
    "            error_count += 1\n",
    "    return (error_count / len(data)) * 100"
   ]
  },
  {
   "cell_type": "markdown",
   "metadata": {},
   "source": [
    "### Training and test error rates for log-transformed data"
   ]
  },
  {
   "cell_type": "code",
   "execution_count": 10,
   "metadata": {},
   "outputs": [
    {
     "name": "stdout",
     "output_type": "stream",
     "text": [
      "Training error rate: 16.867862969004893 %\n",
      "Test error rate: 16.341145833333336 %\n"
     ]
    }
   ],
   "source": [
    "gaussian_error_rate_train = error_rate_gaussian(xtrain_log, ytrain)\n",
    "gaussian_error_rate_test = error_rate_gaussian(xtest_log, ytest)\n",
    "print (\"Training error rate:\", gaussian_error_rate_train, \"%\")\n",
    "print (\"Test error rate:\", gaussian_error_rate_test, \"%\")"
   ]
  },
  {
   "cell_type": "markdown",
   "metadata": {},
   "source": [
    "## Q3. Logistic Regression "
   ]
  },
  {
   "cell_type": "code",
   "execution_count": 11,
   "metadata": {},
   "outputs": [],
   "source": [
    "# lambda = [1.2,...,10,15,20,...,95,100]\n",
    "lambdas = np.hstack((np.arange(1,10,1), np.arange(10,105,5)))"
   ]
  },
  {
   "cell_type": "code",
   "execution_count": 12,
   "metadata": {},
   "outputs": [],
   "source": [
    "def sigmoid(x):\n",
    "# This function returns the sigmoid of the input\n",
    "    return 1/(1+np.exp(-x))\n",
    "\n",
    "def calc_parameters(x_data, y_data, omega, lam):\n",
    "# This function computes regularized NLL, g and H with given omega and lambda values\n",
    "    feature_count = x_data.shape[1]\n",
    "    x_data = np.insert(x_data, 0, 1, axis = 1)\n",
    "    I = np.diag(np.insert(np.ones(feature_count), 0, 0))\n",
    "    NLL = 0\n",
    "    \n",
    "    mus = sigmoid(np.dot(x_data, omega)) # an array of mu for each individual email in x_train\n",
    "    s_param = []\n",
    "    \n",
    "    for y, mu in zip(y_data, mus):\n",
    "        NLL -= y * np.log(mu) + (1 - y) * np.log(1 - mu)\n",
    "        s_param.append(mu * (1 - mu))\n",
    "    g = np.dot(x_data.T, (mus - y_data))\n",
    "    S = np.diag(s_param)\n",
    "    H = np.dot(x_data.T, np.dot(S, x_data))\n",
    "    \n",
    "    # regularization of parameters， the bias term is omitted in the regularization process\n",
    "    NLL_reg = NLL + 0.5 * lam * np.inner(omega[1:], omega[1:])\n",
    "    g_reg = g + np.insert(lam * omega[1:], 0, 0)\n",
    "    H_reg = H + np.dot(lam, I)\n",
    "    \n",
    "    return NLL_reg, g_reg, H_reg\n",
    "\n",
    "def calc_omega(x_data, y_data, lam):\n",
    "# This function finds the omega by implementing Newton's method\n",
    "\n",
    "    feature_count = x_data.shape[1]\n",
    "    Init = np.zeros(feature_count + 1)\n",
    "    omega = Init\n",
    "    convergence = False\n",
    "    iter_count = 0\n",
    "    \n",
    "    # iterates to find optimal omega\n",
    "    while convergence == False:\n",
    "        NLL, g, H = calc_parameters(x_data, y_data, omega, lam)\n",
    "        iter_count += 1\n",
    "        omega_new = omega - np.dot(np.linalg.inv(H), g)\n",
    "        error = np.inner(omega_new - omega, omega_new - omega)/np.inner(omega, omega)\n",
    "        if error < 0.001:\n",
    "            convergence = True\n",
    "        else:\n",
    "            omega = omega_new\n",
    "    return omega_new\n",
    "        \n",
    "\n",
    "def calc_error_rate_logReg(x_data, y_data, x_train, y_train, lam):\n",
    "# This function calculates the error rates for given set of emails with logistic regression model\n",
    "    omega = calc_omega(x_train, y_train, lam)\n",
    "    error_count = 0\n",
    "    classified = sigmoid(omega[0] + np.dot(x_data, omega[1:])) > 0.5\n",
    "    for idx, item in enumerate(classified):\n",
    "        if (item != y_data[idx]):\n",
    "            error_count += 1\n",
    "    return (error_count / len(y_data)) * 100"
   ]
  },
  {
   "cell_type": "code",
   "execution_count": 13,
   "metadata": {},
   "outputs": [
    {
     "name": "stderr",
     "output_type": "stream",
     "text": [
      "D:\\Anaconda\\lib\\site-packages\\ipykernel_launcher.py:43: RuntimeWarning: divide by zero encountered in double_scalars\n"
     ]
    }
   ],
   "source": [
    "logReg_error_rate_train = []\n",
    "\n",
    "for lam in lambdas:\n",
    "    logReg_error_rate_train.append(calc_error_rate_logReg(xtrain_log, ytrain, xtrain_log, ytrain, lam))\n",
    "\n",
    "logReg_error_rate_test = []\n",
    "\n",
    "for lam in lambdas:\n",
    "    logReg_error_rate_test.append(calc_error_rate_logReg(xtest_log, ytest, xtrain_log, ytrain, lam))"
   ]
  },
  {
   "cell_type": "markdown",
   "metadata": {},
   "source": [
    "### Plots of training and test error rates versus lambda"
   ]
  },
  {
   "cell_type": "code",
   "execution_count": 14,
   "metadata": {},
   "outputs": [
    {
     "data": {
      "image/png": "[encoded data removed]",
      "text/plain": [
       "<Figure size 432x288 with 1 Axes>"
      ]
     },
     "metadata": {
      "needs_background": "light"
     },
     "output_type": "display_data"
    }
   ],
   "source": [
    "plt.plot(lambdas,logReg_error_rate_train,'g',label='Training error rate', linewidth=2)\n",
    "plt.plot(lambdas,logReg_error_rate_test,'r',label='Test error rate', linewidth=2)\n",
    "plt.title('Plots of training and test error rates versus lambda')\n",
    "plt.ylabel('Error rate/%')\n",
    "plt.xlabel('Lambda')\n",
    "plt.legend()\n",
    "plt.show()"
   ]
  },
  {
   "cell_type": "markdown",
   "metadata": {},
   "source": [
    "### Observations about training and test errors as lambda changes"
   ]
  },
  {
   "cell_type": "markdown",
   "metadata": {},
   "source": [
    "In general, training and test errors increase as lambda increases. When lambda is between 4 and 8, test error rate is significantly lower compared to other lambda values, which means at these lambda values, the model is more accurate."
   ]
  },
  {
   "cell_type": "markdown",
   "metadata": {},
   "source": [
    "## Training and test error rates for lambda = 1, 10, 100"
   ]
  },
  {
   "cell_type": "code",
   "execution_count": 15,
   "metadata": {},
   "outputs": [
    {
     "name": "stdout",
     "output_type": "stream",
     "text": [
      "Training error rate for lambda = 1 : 5.35073409461664 %\n",
      "Test error rate for lambda = 1 : 6.0546875 %\n",
      "Training error rate for lambda = 10 : 5.383360522022838 %\n",
      "Test error rate for lambda = 10 : 5.989583333333334 %\n",
      "Training error rate for lambda = 100 : 6.394779771615008 %\n",
      "Test error rate for lambda = 100 : 6.640625 %\n"
     ]
    }
   ],
   "source": [
    "for idx, lam in enumerate(lambdas):\n",
    "    if (lam == 1 or lam == 10 or lam == 100):\n",
    "        print (\"Training error rate for lambda =\", lam, \":\", logReg_error_rate_train[idx], \"%\")\n",
    "        print (\"Test error rate for lambda =\", lam, \":\", logReg_error_rate_test[idx], \"%\")"
   ]
  },
  {
   "cell_type": "markdown",
   "metadata": {},
   "source": [
    "## K-Nearest Neighbors"
   ]
  },
  {
   "cell_type": "code",
   "execution_count": 16,
   "metadata": {},
   "outputs": [],
   "source": [
    "# K = [1,2,...,9,10,15,...,95,100]\n",
    "Ks = np.hstack((np.arange(1,10,1), np.arange(10,105,5)))"
   ]
  },
  {
   "cell_type": "code",
   "execution_count": 17,
   "metadata": {},
   "outputs": [],
   "source": [
    "def calc_Euclidean_distance (data_1, data_2):\n",
    "# This function computes the Eculidean distance for 2 sets of data\n",
    "# The computation makes use of function from scipy package\n",
    "    Euc_dist = np.array([[dist.euclidean(data_1[idx1], data_2[idx2]) for idx2 in np.arange(len(data_2))] for idx1 in np.arange(len(data_1))])\n",
    "    return Euc_dist\n",
    "\n",
    "def knn_error_rate(distance, y_data, y_train, K):\n",
    "# This function computes the error rate by using K-nearest neighbor \n",
    "    error_count = 0\n",
    "    for idx, distance_1D in enumerate(distance):\n",
    "        dist_idx = np.argsort(distance_1D)[:K]\n",
    "        spammed = (np.sum(y_train[dist_idx] == 1))\n",
    "        non_spammed = (np.sum(y_train[dist_idx] == 0))\n",
    "        if ((spammed > non_spammed) != y_data[idx]):\n",
    "            error_count += 1\n",
    "    return (error_count / len(y_data)) * 100\n",
    "            "
   ]
  },
  {
   "cell_type": "code",
   "execution_count": 18,
   "metadata": {},
   "outputs": [],
   "source": [
    "# computes euclidean distances for training set and test set\n",
    "euc_dist_train = calc_Euclidean_distance(xtrain_log, xtrain_log)\n",
    "euc_dist_test = calc_Euclidean_distance(xtest, xtrain)\n",
    "\n",
    "knn_error_rate_test = []\n",
    "knn_error_rate_train = []\n",
    "\n",
    "# computes error rates for training set and test set\n",
    "for k in Ks:\n",
    "    knn_error_rate_test.append(knn_error_rate(euc_dist_test, ytest, ytrain, k))\n",
    "    knn_error_rate_train.append(knn_error_rate(euc_dist_train, ytrain, ytrain, k))"
   ]
  },
  {
   "cell_type": "markdown",
   "metadata": {},
   "source": [
    "### Plots of training and test error rates versus K"
   ]
  },
  {
   "cell_type": "code",
   "execution_count": 19,
   "metadata": {},
   "outputs": [
    {
     "data": {
      "image/png": "[encoded data removed]",
      "text/plain": [
       "<Figure size 432x288 with 1 Axes>"
      ]
     },
     "metadata": {
      "needs_background": "light"
     },
     "output_type": "display_data"
    }
   ],
   "source": [
    "plt.plot(Ks,knn_error_rate_train,'g',label='Training error rate', linewidth=2)\n",
    "plt.plot(Ks,knn_error_rate_test,'r',label='Test error rate', linewidth=2)\n",
    "plt.title('Plots of training and test error rates versus K')\n",
    "plt.ylabel('Error rate/%')\n",
    "plt.xlabel('K')\n",
    "plt.legend()\n",
    "plt.show()"
   ]
  },
  {
   "cell_type": "markdown",
   "metadata": {},
   "source": [
    "### Observation about training and test errors as K changes"
   ]
  },
  {
   "cell_type": "markdown",
   "metadata": {},
   "source": [
    "When K is small (K < 20), training errors increases at a very fast rate as K increases; when K is large, training errors increases slightly as K increases. For test errors, the values are relatively stable, and the only major change is when K is approximately 20. This possibly means that when K is very small or very large, a slight change in K does not affect how the model classifies the data. In addition, when K = 1, the training error is extremely small (0.032%), but the test error is still high at 8.46%. This implies over-fitting."
   ]
  },
  {
   "cell_type": "markdown",
   "metadata": {},
   "source": [
    "### Training and testing error rates for K = 1, 10 and 100"
   ]
  },
  {
   "cell_type": "code",
   "execution_count": 20,
   "metadata": {},
   "outputs": [
    {
     "name": "stdout",
     "output_type": "stream",
     "text": [
      "Training error rate for K = 1 : 0.03262642740619902 %\n",
      "Test error rate for K = 1 : 8.463541666666668 %\n",
      "Training error rate for K = 10 : 5.383360522022838 %\n",
      "Test error rate for K = 10 : 8.854166666666668 %\n",
      "Training error rate for K = 100 : 8.841761827079935 %\n",
      "Test error rate for K = 100 : 11.71875 %\n"
     ]
    }
   ],
   "source": [
    "for idx, k in enumerate(Ks):\n",
    "    if (k == 1 or k == 10 or k == 100):\n",
    "        print (\"Training error rate for K =\", k, \":\", knn_error_rate_train[idx], \"%\")\n",
    "        print (\"Test error rate for K =\", k, \":\", knn_error_rate_test[idx], \"%\")"
   ]
  },
  {
   "cell_type": "markdown",
   "metadata": {},
   "source": [
    "## Q5. Survey"
   ]
  },
  {
   "cell_type": "markdown",
   "metadata": {},
   "source": [
    "Time spent on the assignment is approximately 40 hours.\n",
    "The assignment facilitates the understanding of lecture materials. It would be beneficial if the models can be used to compute the data with different preprocessing and observe the difference (although the coding process is likely to be repetitive)."
   ]
  },
  {
   "cell_type": "code",
   "execution_count": null,
   "metadata": {},
   "outputs": [],
   "source": []
  }
 ],
 "metadata": {
  "kernelspec": {
   "display_name": "Python 3",
   "language": "python",
   "name": "python3"
  },
  "language_info": {
   "codemirror_mode": {
    "name": "ipython",
    "version": 3
   },
   "file_extension": ".py",
   "mimetype": "text/x-python",
   "name": "python",
   "nbconvert_exporter": "python",
   "pygments_lexer": "ipython3",
   "version": "3.7.3"
  }
 },
 "nbformat": 4,
 "nbformat_minor": 2
}
